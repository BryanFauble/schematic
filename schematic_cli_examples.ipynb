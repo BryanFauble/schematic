{
 "cells": [
  {
   "cell_type": "markdown",
   "id": "f35d6639-b348-4df3-bb66-14c653d1b161",
   "metadata": {},
   "source": [
    "## Schematic CLI examples"
   ]
  },
  {
   "cell_type": "markdown",
   "id": "a464face",
   "metadata": {},
   "source": [
    "To read full documentation, please visit here: https://sage-schematic.readthedocs.io/en/develop/cli_reference.html\n",
    "\n",
    "To run the CLI commands in jupyter notebook, please add a code cell and add \"%%bash\" on top. For example: \n",
    "\n",
    "```\n",
    "%%bash\n",
    "schematic init --config ~/path/to/config.yml --auth service_account\n",
    "```"
   ]
  },
  {
   "cell_type": "markdown",
   "id": "d3f19a9e-a752-4c1d-8139-2dd1d6bf8ea9",
   "metadata": {},
   "source": [
    "### Initalize schematic \n",
    "To get service account credentials:  \n",
    "* `schematic init --config ~/path/to/config.yml`"
   ]
  },
  {
   "cell_type": "markdown",
   "id": "8d95eca3-6256-49a4-a84d-8cefd94f1899",
   "metadata": {},
   "source": [
    "### Convert schema \n",
    "\n",
    "Convert schema from CSV version to JSON LD version \n",
    "\n",
    "* `schematic schema convert tests/data/example.model.csv`\n",
    "\n",
    "*Note*: by default, this save the JSON LD model to `'tests/data/example.model.jsonld'`\n",
    "\n",
    "You could also change the output location and output filename by doing: \n",
    "\n",
    "* `schematic schema convert tests/data/example.model.csv --output_json example.jsonld`\n"
   ]
  },
  {
   "cell_type": "markdown",
   "id": "354080d3-b68d-40fe-b9b3-8a89c28007de",
   "metadata": {},
   "source": [
    "### Get manifests"
   ]
  },
  {
   "cell_type": "markdown",
   "id": "3c283b21-0371-473a-8e8a-79ae98154cdf",
   "metadata": {
    "jp-MarkdownHeadingCollapsed": true,
    "tags": []
   },
   "source": [
    "Get an empty manifest as a CSV by using the example data model\n",
    "- `schematic manifest --config ~/path/to/config.yml get`\n",
    "\n",
    "Get an empty manifest as a google sheet by using the example data model\n",
    "- `schematic manifest --config ~/path/to/config.yml get --sheet_url`\n",
    "\n",
    "Get an existing manifest (syn28397250) and download it as a csv file (without customizing title)\n",
    "- `schematic manifest --config ~/path/to/config.yml get --dataset_id syn28268700 --data_type BulkRNA-seqAssay`\n",
    "\n",
    "*Note*: the dataset_id here has to be the parent folder syn id\n",
    "\n",
    "Get an existing manifest and download it as \"test.xlsx\"\n",
    "- `schematic manifest --config ~/path/to/config.yml get --output_xlsx 'test.xlsx' --dataset_id syn28268700`\n",
    "\n",
    "Get an existing manifest and download it as \"test.csv\"\n",
    "- `schematic manifest --config ~/path/to/config.yml get --output_csv 'test.csv' --dataset_id syn28268700`\n",
    "\n"
   ]
  },
  {
   "cell_type": "markdown",
   "id": "47f352b0-54a0-417c-a2d0-23b419b8ac6f",
   "metadata": {},
   "source": [
    "## Validate manifest"
   ]
  },
  {
   "cell_type": "markdown",
   "id": "b921d12f-0195-4757-b1c5-5da63823f724",
   "metadata": {},
   "source": [
    "Validate a manifest\n",
    "* For first time users, navigate to the root of schematic repo and run `great_expectation init`\n",
    "\n",
    "* `schematic model --config ~/path/to/config.yml validate --manifest_path tests/data/mock_manifests/Valid_Test_Manifest.csv --data_type MockComponent`"
   ]
  },
  {
   "cell_type": "markdown",
   "id": "807e5d93-d613-4562-aca0-df914e977a6d",
   "metadata": {},
   "source": [
    "## Submit manifest"
   ]
  },
  {
   "cell_type": "markdown",
   "id": "90dd36f9-8765-4e80-abf3-b134361e195a",
   "metadata": {},
   "source": [
    "Submit a manifest as a table \n",
    "\n",
    "* `schematic model -c ~/path/to/config.yml submit -mp /path/to/Patient-Metadata-Manifest.csv -d syn23643250 -vc Patient -mrt table`\n"
   ]
  }
 ],
 "metadata": {
  "kernelspec": {
   "display_name": "Python 3.8.2 ('schematic_test': venv)",
   "language": "python",
   "name": "python3"
  },
  "language_info": {
   "codemirror_mode": {
    "name": "ipython",
    "version": 3
   },
   "file_extension": ".py",
   "mimetype": "text/x-python",
   "name": "python",
   "nbconvert_exporter": "python",
   "pygments_lexer": "ipython3",
   "version": "3.8.2"
  },
  "vscode": {
   "interpreter": {
    "hash": "264f1a1c05547d875035fd60beb7b21b8c26ca33c378dc41e7532627820d300b"
   }
  }
 },
 "nbformat": 4,
 "nbformat_minor": 5
}
